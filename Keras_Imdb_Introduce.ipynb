{
 "cells": [
  {
   "cell_type": "code",
   "execution_count": null,
   "metadata": {
    "colab": {},
    "colab_type": "code",
    "id": "e3vvQmVgP-Tz"
   },
   "outputs": [],
   "source": [
    "#!/usr/bin/env python3\n",
    "# -*- coding: utf-8 -*-\n",
    "import os\n",
    "import urllib.request\n",
    "import tarfile\n",
    "from keras.preprocessing import sequence \n",
    "from keras.preprocessing.text import Tokenizer\n",
    "# regular expression\n",
    "import re \n",
    "def rm_tags(text):\n",
    "    re_tag = re.compile(r'<[^>]+>')\n",
    "    return re_tag.sub('',text)\n",
    "def read_files(filetype):\n",
    "    path = \"./aclImdb/\"\n",
    "    file_list=[]\n",
    "    positive_path=path + filetype+\"/pos/\"\n",
    "    for f in os.listdir(positive_path):\n",
    "        file_list+=[positive_path+f]   \n",
    "    negative_path=path + filetype+\"/neg/\"\n",
    "    for f in os.listdir(negative_path):\n",
    "        file_list+=[negative_path+f]      \n",
    "    print('read',filetype, 'files:',len(file_list))      \n",
    "    all_labels = ([1] * 12500 + [0] * 12500)    \n",
    "    all_texts  = []\n",
    "    for fi in file_list:\n",
    "        with open(fi,encoding='utf8') as file_input:\n",
    "            filelines = file_input.readlines()       \n",
    "            all_texts += [rm_tags(filelines[0])]         \n",
    "    return all_labels,all_texts\n",
    " \n",
    "url=\"http://ai.stanford.edu/~amaas/data/sentiment/aclImdb_v1.tar.gz\"\n",
    "filepath=\"aclImdb_v1.tar.gz\"\n",
    "if not os.path.isfile(filepath):\n",
    "    result=urllib.request.urlretrieve(url,filepath)\n",
    "    print('downloaded:',result)\n",
    "if not os.path.exists(\"aclImdb\"):\n",
    "    tfile = tarfile.open(\"aclImdb_v1.tar.gz\", 'r:gz')\n",
    "    result=tfile.extractall('.')\n",
    "y_train, x_train = read_files('train')\n",
    "y_test, x_test = read_files('test')\n",
    "token = Tokenizer(num_words=2000)\n",
    "token.fit_on_texts(x_train)\n",
    "x_train_seq = token.texts_to_sequences(x_train)\n",
    "x_test_seq = token.texts_to_sequences(x_test)\n",
    " \n",
    "x_train_v = sequence.pad_sequences(x_train_seq,maxlen=100)\n",
    "x_test_v =  sequence.pad_sequences(x_test_seq,maxlen=100)\n",
    " \n",
    "from keras.models import Sequential\n",
    "from keras.layers import Dense,Flatten,Embedding,SimpleRNN\n",
    "model = Sequential()\n",
    "model.add(Embedding(input_dim=2000,output_dim=32,input_length=100))\n",
    "model.add(Flatten())\n",
    "#model.add(SimpleRNN(units=32))\n",
    "model.add(Dense(units=256,activation='relu'))\n",
    "model.add(Dense(units=1,activation='sigmoid'))\n",
    "model.summary()\n",
    "model.compile(loss='binary_crossentropy',optimizer='adam',metrics=['accuracy'])\n",
    "train_his = model.fit(x_train_v,y_train,batch_size=128,epochs=10,verbose=2,validation_split=0.1)\n",
    "scores = model.evaluate(x_test_v,y_test,verbose=1)\n",
    "scores[1]\n",
    " "
   ]
  },
  {
   "cell_type": "code",
   "execution_count": null,
   "metadata": {},
   "outputs": [],
   "source": []
  },
  {
   "cell_type": "code",
   "execution_count": null,
   "metadata": {},
   "outputs": [],
   "source": []
  }
 ],
 "metadata": {
  "accelerator": "GPU",
  "colab": {
   "authorship_tag": "ABX9TyMPZmeX3YwJ6nYXLTnwIj/N",
   "collapsed_sections": [],
   "name": "Keras_Imdb_Introduce.ipynb",
   "provenance": []
  },
  "kernelspec": {
   "display_name": "Python 3",
   "language": "python",
   "name": "python3"
  },
  "language_info": {
   "codemirror_mode": {
    "name": "ipython",
    "version": 3
   },
   "file_extension": ".py",
   "mimetype": "text/x-python",
   "name": "python",
   "nbconvert_exporter": "python",
   "pygments_lexer": "ipython3",
   "version": "3.7.3"
  }
 },
 "nbformat": 4,
 "nbformat_minor": 1
}
